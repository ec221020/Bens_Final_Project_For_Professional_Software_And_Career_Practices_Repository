{
 "cells": [
  {
   "cell_type": "code",
   "execution_count": 1,
   "metadata": {},
   "outputs": [],
   "source": [
    "#import\n",
    "import matplotlib.pyplot as plt\n",
    "import numpy as np\n",
    "import pandas as pd\n",
    "import plotly.express as px\n",
    "import plotly.graph_objects as go\n",
    "import unittest\n",
    "import Testing\n",
    "import variables\n",
    "from functions import PmCc,linear_regression"
   ]
  },
  {
   "cell_type": "code",
   "execution_count": 2,
   "metadata": {},
   "outputs": [],
   "source": [
    "def dataframe_to_dictionary(df):\n",
    "    dictionary = {}\n",
    "    for header in df:\n",
    "        dictionary[header] = [data for data in df[header]]\n",
    "    return dictionary"
   ]
  },
  {
   "cell_type": "code",
   "execution_count": 3,
   "metadata": {},
   "outputs": [],
   "source": [
    "#All data Imports\n",
    "##ViolentCrimesSheet = pd.read_excel(\"statistic_id288256_number-of-violent-crime-offences-in-england-and-wales-2007-2022.xlsx\", \"Data\", header=5)\n",
    "\n",
    "#convert to more managable data\n",
    "##dataViolentCrimesSheet = dataframe_to_dictionary(ViolentCrimesSheet)\n",
    "#print(dataViolentCrimesSheet)\n",
    "##https://www.statista.com/statistics/288256/violent-crimes-in-england-and-wales/\n",
    "\n",
    "##VideoGameSheet = pd.read_excel(\"statistic_id300521_uk-gaming-reach-2007-2021.xlsx\", \"Data\", header=4)\n",
    "##dataVideoGameSheet = dataframe_to_dictionary(VideoGameSheet)\n",
    "##https://www.statista.com/statistics/300521/gaming-in-the-united-kingdom/\n",
    "\n",
    "\n",
    "##AgeOfGamersSheet = pd.read_excel(\"statistic_id300513_uk-gaming-reach-2013-2021-by-age-group-and-gender (1) (1) (2).xlsx\", \"Data\", header=4)\n",
    "##dataAgeOfGamersSheet = dataframe_to_dictionary(AgeOfGamersSheet)\n",
    "##https://www.statista.com/statistics/300513/gaming-by-demographic-group-uk/\n",
    "\n",
    "##GenderOfGamersSheet = pd.read_excel(\"statistic_id300513_uk-gaming-reach-2013-2021-by-age-group-and-gender (1) (1) (2).xlsx\", \"Data2\", header=4)\n",
    "##dataGenderOfGamersSheet = dataframe_to_dictionary(GenderOfGamersSheet)\n",
    "##https://www.statista.com/statistics/300513/gaming-by-demographic-group-uk/\n",
    "\n",
    "##AgeOfGamersSheetsmall = pd.read_excel(\"statistic_id300513_uk-gaming-reach-2013-2021-by-age-group-and-gender (1) (1) (2).xlsx\", \"Data3\", header=4)\n",
    "##dataAgeOfGamersSheetsmall = dataframe_to_dictionary(AgeOfGamersSheetsmall)\n",
    "##https://www.statista.com/statistics/300513/gaming-by-demographic-group-uk/\n",
    "\n",
    "##SuicideRateAge = pd.read_excel(\"statistic_id289102_suicide-rate-in-england-and-wales-2021-by-age (1).xlsx\", \"Data\", header=4)\n",
    "##dataSuicideRateAge = dataframe_to_dictionary(SuicideRateAge)\n",
    "##https://www.statista.com/statistics/289102/suicide-rate-in-the-united-kingdom-uk-by-age/\n",
    "\n",
    "##SuicideRate = pd.read_excel(\"statistic_id282160_suicide-rate-in-england-and-wales-2000-2021 (1).xlsx\", \"Data\", header=4)\n",
    "##dataSuicideRate = dataframe_to_dictionary(SuicideRate)\n",
    "##https://www.statista.com/statistics/282160/suicide-rate-in-the-united-kingdom-uk-since-2000/\n",
    "\n",
    "##HomicidePercentage = pd.read_excel(\"Figure_10__Suspects_convicted_of_homicide_show_a_younger_age_profile (2).xlsx\", \"Data\", header=4)\n",
    "##dataHomicidePercentage = dataframe_to_dictionary(HomicidePercentage) \n",
    "##https://www.ons.gov.uk/peoplepopulationandcommunity/crimeandjustice/articles/homicideinenglandandwales/yearendingmarch2021\n",
    "\n",
    "##HomicidePercentages = pd.read_excel(\"Figure_10__Suspects_convicted_of_homicide_show_a_younger_age_profile (2).xlsx\", \"Data2\", header=4)\n",
    "##dataHomicidePercentages = dataframe_to_dictionary(HomicidePercentages) \n",
    "##https://www.ons.gov.uk/peoplepopulationandcommunity/crimeandjustice/articles/homicideinenglandandwales/yearendingmarch2021\n",
    "\n",
    "##DrugDeaths = pd.read_excel(\"Figure_10__Suspects_convicted_of_homicide_show_a_younger_age_profile (2).xlsx\", \"Data3\", header=4)\n",
    "##dataDrugDeaths = dataframe_to_dictionary(DrugDeaths) \n",
    "##https://www.ons.gov.uk/peoplepopulationandcommunity/birthsdeathsandmarriages/deaths/bulletins/deathsrelatedtodrugpoisoninginenglandandwales/2021registrations\n",
    "\n",
    "##SexualOffencess = pd.read_excel(\"Figure_10__Suspects_convicted_of_homicide_show_a_younger_age_profile (2).xlsx\", \"Data4\", header=4)\n",
    "##dataSexualOffencess = dataframe_to_dictionary(SexualOffencess) \n",
    "##https://www.statista.com/statistics/315500/sexual-offences-england-wales/\n",
    "\n",
    "##SexualOffences = pd.read_excel(\"Figure_10__Suspects_convicted_of_homicide_show_a_younger_age_profile (2).xlsx\", \"Data5\", header=4)\n",
    "##dataSexualOffences = dataframe_to_dictionary(SexualOffences) \n",
    "##https://www.statista.com/statistics/315500/sexual-offences-england-wales/\n",
    "\n",
    "##PopGames = pd.read_excel(\"statistic_id274072_best-selling-video-games-in-the-uk-2021.xlsx\", \"Data\", header=4)\n",
    "##dataPopGames = dataframe_to_dictionary(PopGames) \n",
    "##https://www.statista.com/statistics/274072/most-popular-games-in-the-united-kingdom-uk-by-unit-sales/\n",
    "\n",
    "##MorePopGames = pd.read_excel(\"statistic_id274072_best-selling-video-games-in-the-uk-2021.xlsx\", \"Data.3\", header=4)\n",
    "##dataMorePopGames = dataframe_to_dictionary(MorePopGames)\n",
    "##https://www.statista.com/statistics/274072/most-popular-games-in-the-united-kingdom-uk-by-unit-sales/\n",
    "\n",
    "##ShooterGames = pd.read_excel(\"statistic_id274072_best-selling-video-games-in-the-uk-2021.xlsx\", \"Data2\", header=4)\n",
    "##dataShooterGames = dataframe_to_dictionary(ShooterGames)\n",
    "##https://www.statista.com/statistics/1280526/gb-weekly-time-video-games-shooter-players/\n",
    "\n",
    "##GenreOfGames = pd.read_excel(\"statistic_id274072_best-selling-video-games-in-the-uk-2021.xlsx\", \"Data3\", header=4)\n",
    "##dataGenreOfGames = dataframe_to_dictionary(GenreOfGames)\n",
    "##https://gametree.me/blog/global-gamer-insights-report/#:~:text=For%20genre%20popularity%2C%20Action%20is%20rated%20as%20the,genres%20have%20a%20less%20than%2050%25%20preference%20rating.\n",
    "\n",
    "##homicidesByYear = pd.read_excel(\"statistic_id283093_number-of-homicides-in-england-and-wales-2002-2022.xlsx\", \"Data\", header=4)\n",
    "##datahomicidesByYear = dataframe_to_dictionary(homicidesByYear)\n",
    "##https://www.statista.com/statistics/283093/homicides-in-england-and-wales/"
   ]
  },
  {
   "cell_type": "code",
   "execution_count": 4,
   "metadata": {},
   "outputs": [
    {
     "name": "stdout",
     "output_type": "stream",
     "text": [
      "   Best-selling video games in the UK 2021    Sales  Percentage Unnamed: 3  \\\n",
      "0                                  FIFA 22  2338778       21.75        NaN   \n",
      "1                   Call Of Duty: Vanguard   975339        9.07          y   \n",
      "2                        Gand Theft Auto V   967242        9.00          y   \n",
      "3                                  FIFA 21   602224        5.60        NaN   \n",
      "4                     Mario Kart 8 Deluxe*   599881        5.58        NaN   \n",
      "5         Call of Duty: Black Ops Cold War   549490        5.11          y   \n",
      "6                Spider-Man: Miles Morales   505803        4.70        NaN   \n",
      "7           Animal Crossing: New Horizons*   457407        4.25        NaN   \n",
      "8                                Minecraft   445124        4.14        NaN   \n",
      "9                    Red Dead Redemption 2   395669        3.68          y   \n",
      "10                                 F1 2021   371470        3.45        NaN   \n",
      "11                               Far Cry 6   371020        3.45          y   \n",
      "12               Assassin's Creed Valhalla   358379        3.33          y   \n",
      "13                   Resident Evil Village   331252        3.08          y   \n",
      "14   Super Mario 3D World + Bowser's Fury*   321010        2.99        NaN   \n",
      "15                        Battlefield 2042   297462        2.77        NaN   \n",
      "16          Tom Clancy's Rainbow Six Siege   236834        2.20          y   \n",
      "17             Ratchet & Clank: Rift Apart   225477        2.10        NaN   \n",
      "18               Pokémon Billiant Diamond*   210507        1.96        NaN   \n",
      "19        Marvel's Guardians of the Galaxy   192576        1.80        NaN   \n",
      "\n",
      "         Total  \n",
      "0   10752944.0  \n",
      "1          NaN  \n",
      "2          NaN  \n",
      "3          NaN  \n",
      "4          NaN  \n",
      "5          NaN  \n",
      "6          NaN  \n",
      "7          NaN  \n",
      "8          NaN  \n",
      "9          NaN  \n",
      "10         NaN  \n",
      "11         NaN  \n",
      "12         NaN  \n",
      "13         NaN  \n",
      "14         NaN  \n",
      "15         NaN  \n",
      "16         NaN  \n",
      "17         NaN  \n",
      "18         NaN  \n",
      "19         NaN  \n",
      "['FIFA 22' 'Call Of Duty: Vanguard' 'Gand Theft Auto V' 'FIFA 21'\n",
      " 'Mario Kart 8 Deluxe*' 'Call of Duty: Black Ops Cold War'\n",
      " 'Spider-Man: Miles Morales' 'Animal Crossing: New Horizons*' 'Minecraft'\n",
      " 'Red Dead Redemption 2' 'F1 2021' 'Far Cry 6' \"Assassin's Creed Valhalla\"\n",
      " 'Resident Evil Village' \"Super Mario 3D World + Bowser's Fury*\"\n",
      " 'Battlefield 2042' \"Tom Clancy's Rainbow Six Siege\"\n",
      " 'Ratchet & Clank: Rift Apart' 'Pokémon Billiant Diamond*'\n",
      " \"Marvel's Guardians of the Galaxy\"]\n",
      "[2338778  975339  967242  602224  599881  549490  505803  457407  445124\n",
      "  395669  371470  371020  358379  331252  321010  297462  236834  225477\n",
      "  210507  192576]\n"
     ]
    }
   ],
   "source": [
    "df = pd.read_excel(\"statistic_id274072_best-selling-video-games-in-the-uk-2021.xlsx\", \"Data\", header = 2)\n",
    "df.head()\n",
    "print(df)\n",
    "\n",
    "x = dataframe_to_dictionary(df)\n",
    "best_selling_games1 = x[\"Best-selling video games in the UK 2021\"]\n",
    "\n",
    "best_selling_games = np.array(best_selling_games1)\n",
    "print(best_selling_games)\n",
    "\n",
    "x = dataframe_to_dictionary(df)\n",
    "best_selling_sales1 = x[\"Sales\"]\n",
    "\n",
    "best_selling_sales = np.array(best_selling_sales1)\n",
    "print(best_selling_sales)"
   ]
  },
  {
   "cell_type": "code",
   "execution_count": 5,
   "metadata": {},
   "outputs": [
    {
     "data": {
      "application/vnd.plotly.v1+json": {
       "config": {
        "plotlyServerURL": "https://plot.ly"
       },
       "data": [
        {
         "alignmentgroup": "True",
         "hovertemplate": "Number of UK sales in 2021=%{x}<br>Games (Top 20 UK sold in 2021)=%{y}<extra></extra>",
         "legendgroup": "",
         "marker": {
          "color": "#636efa",
          "pattern": {
           "shape": ""
          }
         },
         "name": "",
         "offsetgroup": "",
         "orientation": "h",
         "showlegend": false,
         "textposition": "auto",
         "type": "bar",
         "x": [
          2338778,
          975339,
          967242,
          602224,
          599881,
          549490,
          505803,
          457407,
          445124,
          395669,
          371470,
          371020,
          358379,
          331252,
          321010,
          297462,
          236834,
          225477,
          210507,
          192576
         ],
         "xaxis": "x",
         "y": [
          "FIFA 22",
          "Call Of Duty: Vanguard",
          "Gand Theft Auto V",
          "FIFA 21",
          "Mario Kart 8 Deluxe*",
          "Call of Duty: Black Ops Cold War",
          "Spider-Man: Miles Morales",
          "Animal Crossing: New Horizons*",
          "Minecraft",
          "Red Dead Redemption 2",
          "F1 2021",
          "Far Cry 6",
          "Assassin's Creed Valhalla",
          "Resident Evil Village",
          "Super Mario 3D World + Bowser's Fury*",
          "Battlefield 2042",
          "Tom Clancy's Rainbow Six Siege",
          "Ratchet & Clank: Rift Apart",
          "Pokémon Billiant Diamond*",
          "Marvel's Guardians of the Galaxy"
         ],
         "yaxis": "y"
        }
       ],
       "layout": {
        "barmode": "relative",
        "legend": {
         "tracegroupgap": 0
        },
        "template": {
         "data": {
          "bar": [
           {
            "error_x": {
             "color": "#2a3f5f"
            },
            "error_y": {
             "color": "#2a3f5f"
            },
            "marker": {
             "line": {
              "color": "#E5ECF6",
              "width": 0.5
             },
             "pattern": {
              "fillmode": "overlay",
              "size": 10,
              "solidity": 0.2
             }
            },
            "type": "bar"
           }
          ],
          "barpolar": [
           {
            "marker": {
             "line": {
              "color": "#E5ECF6",
              "width": 0.5
             },
             "pattern": {
              "fillmode": "overlay",
              "size": 10,
              "solidity": 0.2
             }
            },
            "type": "barpolar"
           }
          ],
          "carpet": [
           {
            "aaxis": {
             "endlinecolor": "#2a3f5f",
             "gridcolor": "white",
             "linecolor": "white",
             "minorgridcolor": "white",
             "startlinecolor": "#2a3f5f"
            },
            "baxis": {
             "endlinecolor": "#2a3f5f",
             "gridcolor": "white",
             "linecolor": "white",
             "minorgridcolor": "white",
             "startlinecolor": "#2a3f5f"
            },
            "type": "carpet"
           }
          ],
          "choropleth": [
           {
            "colorbar": {
             "outlinewidth": 0,
             "ticks": ""
            },
            "type": "choropleth"
           }
          ],
          "contour": [
           {
            "colorbar": {
             "outlinewidth": 0,
             "ticks": ""
            },
            "colorscale": [
             [
              0,
              "#0d0887"
             ],
             [
              0.1111111111111111,
              "#46039f"
             ],
             [
              0.2222222222222222,
              "#7201a8"
             ],
             [
              0.3333333333333333,
              "#9c179e"
             ],
             [
              0.4444444444444444,
              "#bd3786"
             ],
             [
              0.5555555555555556,
              "#d8576b"
             ],
             [
              0.6666666666666666,
              "#ed7953"
             ],
             [
              0.7777777777777778,
              "#fb9f3a"
             ],
             [
              0.8888888888888888,
              "#fdca26"
             ],
             [
              1,
              "#f0f921"
             ]
            ],
            "type": "contour"
           }
          ],
          "contourcarpet": [
           {
            "colorbar": {
             "outlinewidth": 0,
             "ticks": ""
            },
            "type": "contourcarpet"
           }
          ],
          "heatmap": [
           {
            "colorbar": {
             "outlinewidth": 0,
             "ticks": ""
            },
            "colorscale": [
             [
              0,
              "#0d0887"
             ],
             [
              0.1111111111111111,
              "#46039f"
             ],
             [
              0.2222222222222222,
              "#7201a8"
             ],
             [
              0.3333333333333333,
              "#9c179e"
             ],
             [
              0.4444444444444444,
              "#bd3786"
             ],
             [
              0.5555555555555556,
              "#d8576b"
             ],
             [
              0.6666666666666666,
              "#ed7953"
             ],
             [
              0.7777777777777778,
              "#fb9f3a"
             ],
             [
              0.8888888888888888,
              "#fdca26"
             ],
             [
              1,
              "#f0f921"
             ]
            ],
            "type": "heatmap"
           }
          ],
          "heatmapgl": [
           {
            "colorbar": {
             "outlinewidth": 0,
             "ticks": ""
            },
            "colorscale": [
             [
              0,
              "#0d0887"
             ],
             [
              0.1111111111111111,
              "#46039f"
             ],
             [
              0.2222222222222222,
              "#7201a8"
             ],
             [
              0.3333333333333333,
              "#9c179e"
             ],
             [
              0.4444444444444444,
              "#bd3786"
             ],
             [
              0.5555555555555556,
              "#d8576b"
             ],
             [
              0.6666666666666666,
              "#ed7953"
             ],
             [
              0.7777777777777778,
              "#fb9f3a"
             ],
             [
              0.8888888888888888,
              "#fdca26"
             ],
             [
              1,
              "#f0f921"
             ]
            ],
            "type": "heatmapgl"
           }
          ],
          "histogram": [
           {
            "marker": {
             "pattern": {
              "fillmode": "overlay",
              "size": 10,
              "solidity": 0.2
             }
            },
            "type": "histogram"
           }
          ],
          "histogram2d": [
           {
            "colorbar": {
             "outlinewidth": 0,
             "ticks": ""
            },
            "colorscale": [
             [
              0,
              "#0d0887"
             ],
             [
              0.1111111111111111,
              "#46039f"
             ],
             [
              0.2222222222222222,
              "#7201a8"
             ],
             [
              0.3333333333333333,
              "#9c179e"
             ],
             [
              0.4444444444444444,
              "#bd3786"
             ],
             [
              0.5555555555555556,
              "#d8576b"
             ],
             [
              0.6666666666666666,
              "#ed7953"
             ],
             [
              0.7777777777777778,
              "#fb9f3a"
             ],
             [
              0.8888888888888888,
              "#fdca26"
             ],
             [
              1,
              "#f0f921"
             ]
            ],
            "type": "histogram2d"
           }
          ],
          "histogram2dcontour": [
           {
            "colorbar": {
             "outlinewidth": 0,
             "ticks": ""
            },
            "colorscale": [
             [
              0,
              "#0d0887"
             ],
             [
              0.1111111111111111,
              "#46039f"
             ],
             [
              0.2222222222222222,
              "#7201a8"
             ],
             [
              0.3333333333333333,
              "#9c179e"
             ],
             [
              0.4444444444444444,
              "#bd3786"
             ],
             [
              0.5555555555555556,
              "#d8576b"
             ],
             [
              0.6666666666666666,
              "#ed7953"
             ],
             [
              0.7777777777777778,
              "#fb9f3a"
             ],
             [
              0.8888888888888888,
              "#fdca26"
             ],
             [
              1,
              "#f0f921"
             ]
            ],
            "type": "histogram2dcontour"
           }
          ],
          "mesh3d": [
           {
            "colorbar": {
             "outlinewidth": 0,
             "ticks": ""
            },
            "type": "mesh3d"
           }
          ],
          "parcoords": [
           {
            "line": {
             "colorbar": {
              "outlinewidth": 0,
              "ticks": ""
             }
            },
            "type": "parcoords"
           }
          ],
          "pie": [
           {
            "automargin": true,
            "type": "pie"
           }
          ],
          "scatter": [
           {
            "fillpattern": {
             "fillmode": "overlay",
             "size": 10,
             "solidity": 0.2
            },
            "type": "scatter"
           }
          ],
          "scatter3d": [
           {
            "line": {
             "colorbar": {
              "outlinewidth": 0,
              "ticks": ""
             }
            },
            "marker": {
             "colorbar": {
              "outlinewidth": 0,
              "ticks": ""
             }
            },
            "type": "scatter3d"
           }
          ],
          "scattercarpet": [
           {
            "marker": {
             "colorbar": {
              "outlinewidth": 0,
              "ticks": ""
             }
            },
            "type": "scattercarpet"
           }
          ],
          "scattergeo": [
           {
            "marker": {
             "colorbar": {
              "outlinewidth": 0,
              "ticks": ""
             }
            },
            "type": "scattergeo"
           }
          ],
          "scattergl": [
           {
            "marker": {
             "colorbar": {
              "outlinewidth": 0,
              "ticks": ""
             }
            },
            "type": "scattergl"
           }
          ],
          "scattermapbox": [
           {
            "marker": {
             "colorbar": {
              "outlinewidth": 0,
              "ticks": ""
             }
            },
            "type": "scattermapbox"
           }
          ],
          "scatterpolar": [
           {
            "marker": {
             "colorbar": {
              "outlinewidth": 0,
              "ticks": ""
             }
            },
            "type": "scatterpolar"
           }
          ],
          "scatterpolargl": [
           {
            "marker": {
             "colorbar": {
              "outlinewidth": 0,
              "ticks": ""
             }
            },
            "type": "scatterpolargl"
           }
          ],
          "scatterternary": [
           {
            "marker": {
             "colorbar": {
              "outlinewidth": 0,
              "ticks": ""
             }
            },
            "type": "scatterternary"
           }
          ],
          "surface": [
           {
            "colorbar": {
             "outlinewidth": 0,
             "ticks": ""
            },
            "colorscale": [
             [
              0,
              "#0d0887"
             ],
             [
              0.1111111111111111,
              "#46039f"
             ],
             [
              0.2222222222222222,
              "#7201a8"
             ],
             [
              0.3333333333333333,
              "#9c179e"
             ],
             [
              0.4444444444444444,
              "#bd3786"
             ],
             [
              0.5555555555555556,
              "#d8576b"
             ],
             [
              0.6666666666666666,
              "#ed7953"
             ],
             [
              0.7777777777777778,
              "#fb9f3a"
             ],
             [
              0.8888888888888888,
              "#fdca26"
             ],
             [
              1,
              "#f0f921"
             ]
            ],
            "type": "surface"
           }
          ],
          "table": [
           {
            "cells": {
             "fill": {
              "color": "#EBF0F8"
             },
             "line": {
              "color": "white"
             }
            },
            "header": {
             "fill": {
              "color": "#C8D4E3"
             },
             "line": {
              "color": "white"
             }
            },
            "type": "table"
           }
          ]
         },
         "layout": {
          "annotationdefaults": {
           "arrowcolor": "#2a3f5f",
           "arrowhead": 0,
           "arrowwidth": 1
          },
          "autotypenumbers": "strict",
          "coloraxis": {
           "colorbar": {
            "outlinewidth": 0,
            "ticks": ""
           }
          },
          "colorscale": {
           "diverging": [
            [
             0,
             "#8e0152"
            ],
            [
             0.1,
             "#c51b7d"
            ],
            [
             0.2,
             "#de77ae"
            ],
            [
             0.3,
             "#f1b6da"
            ],
            [
             0.4,
             "#fde0ef"
            ],
            [
             0.5,
             "#f7f7f7"
            ],
            [
             0.6,
             "#e6f5d0"
            ],
            [
             0.7,
             "#b8e186"
            ],
            [
             0.8,
             "#7fbc41"
            ],
            [
             0.9,
             "#4d9221"
            ],
            [
             1,
             "#276419"
            ]
           ],
           "sequential": [
            [
             0,
             "#0d0887"
            ],
            [
             0.1111111111111111,
             "#46039f"
            ],
            [
             0.2222222222222222,
             "#7201a8"
            ],
            [
             0.3333333333333333,
             "#9c179e"
            ],
            [
             0.4444444444444444,
             "#bd3786"
            ],
            [
             0.5555555555555556,
             "#d8576b"
            ],
            [
             0.6666666666666666,
             "#ed7953"
            ],
            [
             0.7777777777777778,
             "#fb9f3a"
            ],
            [
             0.8888888888888888,
             "#fdca26"
            ],
            [
             1,
             "#f0f921"
            ]
           ],
           "sequentialminus": [
            [
             0,
             "#0d0887"
            ],
            [
             0.1111111111111111,
             "#46039f"
            ],
            [
             0.2222222222222222,
             "#7201a8"
            ],
            [
             0.3333333333333333,
             "#9c179e"
            ],
            [
             0.4444444444444444,
             "#bd3786"
            ],
            [
             0.5555555555555556,
             "#d8576b"
            ],
            [
             0.6666666666666666,
             "#ed7953"
            ],
            [
             0.7777777777777778,
             "#fb9f3a"
            ],
            [
             0.8888888888888888,
             "#fdca26"
            ],
            [
             1,
             "#f0f921"
            ]
           ]
          },
          "colorway": [
           "#636efa",
           "#EF553B",
           "#00cc96",
           "#ab63fa",
           "#FFA15A",
           "#19d3f3",
           "#FF6692",
           "#B6E880",
           "#FF97FF",
           "#FECB52"
          ],
          "font": {
           "color": "#2a3f5f"
          },
          "geo": {
           "bgcolor": "white",
           "lakecolor": "white",
           "landcolor": "#E5ECF6",
           "showlakes": true,
           "showland": true,
           "subunitcolor": "white"
          },
          "hoverlabel": {
           "align": "left"
          },
          "hovermode": "closest",
          "mapbox": {
           "style": "light"
          },
          "paper_bgcolor": "white",
          "plot_bgcolor": "#E5ECF6",
          "polar": {
           "angularaxis": {
            "gridcolor": "white",
            "linecolor": "white",
            "ticks": ""
           },
           "bgcolor": "#E5ECF6",
           "radialaxis": {
            "gridcolor": "white",
            "linecolor": "white",
            "ticks": ""
           }
          },
          "scene": {
           "xaxis": {
            "backgroundcolor": "#E5ECF6",
            "gridcolor": "white",
            "gridwidth": 2,
            "linecolor": "white",
            "showbackground": true,
            "ticks": "",
            "zerolinecolor": "white"
           },
           "yaxis": {
            "backgroundcolor": "#E5ECF6",
            "gridcolor": "white",
            "gridwidth": 2,
            "linecolor": "white",
            "showbackground": true,
            "ticks": "",
            "zerolinecolor": "white"
           },
           "zaxis": {
            "backgroundcolor": "#E5ECF6",
            "gridcolor": "white",
            "gridwidth": 2,
            "linecolor": "white",
            "showbackground": true,
            "ticks": "",
            "zerolinecolor": "white"
           }
          },
          "shapedefaults": {
           "line": {
            "color": "#2a3f5f"
           }
          },
          "ternary": {
           "aaxis": {
            "gridcolor": "white",
            "linecolor": "white",
            "ticks": ""
           },
           "baxis": {
            "gridcolor": "white",
            "linecolor": "white",
            "ticks": ""
           },
           "bgcolor": "#E5ECF6",
           "caxis": {
            "gridcolor": "white",
            "linecolor": "white",
            "ticks": ""
           }
          },
          "title": {
           "x": 0.05
          },
          "xaxis": {
           "automargin": true,
           "gridcolor": "white",
           "linecolor": "white",
           "ticks": "",
           "title": {
            "standoff": 15
           },
           "zerolinecolor": "white",
           "zerolinewidth": 2
          },
          "yaxis": {
           "automargin": true,
           "gridcolor": "white",
           "linecolor": "white",
           "ticks": "",
           "title": {
            "standoff": 15
           },
           "zerolinecolor": "white",
           "zerolinewidth": 2
          }
         }
        },
        "title": {
         "text": "UK video game sales in 2021"
        },
        "xaxis": {
         "anchor": "y",
         "domain": [
          0,
          1
         ],
         "title": {
          "text": "Number of UK sales in 2021"
         }
        },
        "yaxis": {
         "anchor": "x",
         "domain": [
          0,
          1
         ],
         "title": {
          "text": "Games (Top 20 UK sold in 2021)"
         }
        }
       }
      }
     },
     "metadata": {},
     "output_type": "display_data"
    }
   ],
   "source": [
    "fig = px.bar(\n",
    "    x=best_selling_sales,  # sales on the x-axis\n",
    "    y=best_selling_games,  # games on the y-axis\n",
    "    orientation='h',  # specify horizontal orientation\n",
    "    labels={'x': 'Number of UK sales in 2021', 'y': 'Games (Top 20 UK sold in 2021)'},\n",
    "    title='UK video game sales in 2021'\n",
    ")\n",
    "\n",
    "fig.show()"
   ]
  },
  {
   "cell_type": "code",
   "execution_count": 6,
   "metadata": {},
   "outputs": [
    {
     "name": "stdout",
     "output_type": "stream",
     "text": [
      "   Cert 18  Cert 18 percentage  not Cert 18 with fifa 22  \\\n",
      "0  4185225               38.92                   6567719   \n",
      "\n",
      "   not Cert 18 with fifa 22 percentage  Fifa 22  Fifa 22 Percentage  \\\n",
      "0                                61.08  2338778               21.75   \n",
      "\n",
      "   not Cert 18 without fifa 22  not Cert 18 without fifa 22 percentage  \\\n",
      "0                      4228941                                   39.33   \n",
      "\n",
      "      Total  Total percentage  \n",
      "0  10752944               100  \n",
      "[38.92]\n",
      "[39.33]\n",
      "[21.75]\n",
      "[100]\n"
     ]
    }
   ],
   "source": [
    "df = pd.read_excel(\"statistic_id274072_best-selling-video-games-in-the-uk-2021.xlsx\", \"Data.3\", header = 2)\n",
    "df.head()\n",
    "print(df)\n",
    "\n",
    "x = dataframe_to_dictionary(df)\n",
    "cert_18_percentage1 = x[\"Cert 18 percentage\"]\n",
    "\n",
    "cert_18_percentage = np.array(cert_18_percentage1)\n",
    "print(cert_18_percentage)\n",
    "\n",
    "x = dataframe_to_dictionary(df)\n",
    "not_cert_18_percentage1 = x[\"not Cert 18 without fifa 22 percentage\"]\n",
    "\n",
    "not_cert_18_percentage = np.array(not_cert_18_percentage1)\n",
    "print(not_cert_18_percentage)\n",
    "\n",
    "x = dataframe_to_dictionary(df)\n",
    "Fifa_221 = x[\"Fifa 22 Percentage\"]\n",
    "\n",
    "Fifa_22 = np.array(Fifa_221)\n",
    "print(Fifa_22)\n",
    "\n",
    "x = dataframe_to_dictionary(df)\n",
    "total_percentage_games1 = x[\"Total percentage\"]\n",
    "\n",
    "total_percentage_games = np.array(total_percentage_games1)\n",
    "print(total_percentage_games)"
   ]
  },
  {
   "cell_type": "code",
   "execution_count": 9,
   "metadata": {},
   "outputs": [],
   "source": [
    "#*venn diagram having toruble showing on VS but does on Cocalc\n",
    "\n",
    "\n",
    "\n",
    "#Type_of_games = ['Certficate 18 (4185225)', 'Fifa 22 (2338778)', 'Not certificate 18 excluding fifa 22 (4228941)']\n",
    " \n",
    "#data = [cert_18_percentage, Fifa_22, not_cert_18_percentage]\n",
    " \n",
    "# Define different shades of blue\n",
    "#colors = ['#1f77b4', '#4d94ff', '#99c2ff']\n",
    "\n",
    "# Create a pie chart using Matplotlib and NumPy\n",
    "#fig, ax = plt.subplots(figsize=(10, 7))\n",
    "#ax.pie(data, labels=Type_of_games, autopct='%1.1f%%', startangle=90, colors=colors)\n",
    "\n",
    "# Equal aspect ratio ensures that the pie is drawn as a circle\n",
    "#ax.axis('equal')  \n",
    "\n",
    "#plt.title(\"Pie chart to show top 20 UK games sold by certificate\")\n",
    "#plt.legend(loc='upper left')\n",
    "\n",
    "# Show the plot\n",
    "#plt.show() "
   ]
  },
  {
   "cell_type": "code",
   "execution_count": 10,
   "metadata": {},
   "outputs": [
    {
     "name": "stdout",
     "output_type": "stream",
     "text": [
      "           Use  Shooter gamers  All genre gamers\n",
      "0        Heavy              34                23\n",
      "1       Medium              15                17\n",
      "2        Light              29                29\n",
      "3  Ultra light              14                21\n",
      "4   Don't know               6                 7\n",
      "['Heavy' 'Medium' 'Light' 'Ultra light' \"Don't know\"]\n",
      "[34 15 29 14  6]\n",
      "[23 17 29 21  7]\n"
     ]
    }
   ],
   "source": [
    "df = pd.read_excel(\"statistic_id274072_best-selling-video-games-in-the-uk-2021.xlsx\", \"Data2\", header = 2)\n",
    "df.head()\n",
    "print(df)\n",
    "\n",
    "x = dataframe_to_dictionary(df)\n",
    "game_genre_use1= x[\"Use\"]\n",
    "\n",
    "game_genre_use = np.array(game_genre_use1)\n",
    "print(game_genre_use)\n",
    "\n",
    "x = dataframe_to_dictionary(df)\n",
    "game_genre_shooter1 = x[\"Shooter gamers\"]\n",
    "\n",
    "game_genre_shooter = np.array(game_genre_shooter1)\n",
    "print(game_genre_shooter)\n",
    "\n",
    "x = dataframe_to_dictionary(df)\n",
    "game_genre_all1 = x[\"All genre gamers\"]\n",
    "\n",
    "game_genre_all = np.array(game_genre_all1)\n",
    "print(game_genre_all)"
   ]
  },
  {
   "cell_type": "code",
   "execution_count": 11,
   "metadata": {},
   "outputs": [
    {
     "data": {
      "application/vnd.plotly.v1+json": {
       "config": {
        "plotlyServerURL": "https://plot.ly"
       },
       "data": [
        {
         "marker": {
          "color": "rgba(0, 0, 255, 0.7)"
         },
         "name": "Shooter genre gamers",
         "type": "bar",
         "x": [
          "Heavy",
          "Medium",
          "Light",
          "Ultra light",
          "Do not know"
         ],
         "y": [
          34,
          15,
          29,
          14,
          6
         ]
        },
        {
         "marker": {
          "color": "rgba(0, 0, 255, 0.5)"
         },
         "name": "All genre gamers",
         "type": "bar",
         "x": [
          "Heavy",
          "Medium",
          "Light",
          "Ultra light",
          "Do not know"
         ],
         "y": [
          23,
          17,
          29,
          21,
          7
         ]
        }
       ],
       "layout": {
        "barmode": "group",
        "template": {
         "data": {
          "bar": [
           {
            "error_x": {
             "color": "#2a3f5f"
            },
            "error_y": {
             "color": "#2a3f5f"
            },
            "marker": {
             "line": {
              "color": "#E5ECF6",
              "width": 0.5
             },
             "pattern": {
              "fillmode": "overlay",
              "size": 10,
              "solidity": 0.2
             }
            },
            "type": "bar"
           }
          ],
          "barpolar": [
           {
            "marker": {
             "line": {
              "color": "#E5ECF6",
              "width": 0.5
             },
             "pattern": {
              "fillmode": "overlay",
              "size": 10,
              "solidity": 0.2
             }
            },
            "type": "barpolar"
           }
          ],
          "carpet": [
           {
            "aaxis": {
             "endlinecolor": "#2a3f5f",
             "gridcolor": "white",
             "linecolor": "white",
             "minorgridcolor": "white",
             "startlinecolor": "#2a3f5f"
            },
            "baxis": {
             "endlinecolor": "#2a3f5f",
             "gridcolor": "white",
             "linecolor": "white",
             "minorgridcolor": "white",
             "startlinecolor": "#2a3f5f"
            },
            "type": "carpet"
           }
          ],
          "choropleth": [
           {
            "colorbar": {
             "outlinewidth": 0,
             "ticks": ""
            },
            "type": "choropleth"
           }
          ],
          "contour": [
           {
            "colorbar": {
             "outlinewidth": 0,
             "ticks": ""
            },
            "colorscale": [
             [
              0,
              "#0d0887"
             ],
             [
              0.1111111111111111,
              "#46039f"
             ],
             [
              0.2222222222222222,
              "#7201a8"
             ],
             [
              0.3333333333333333,
              "#9c179e"
             ],
             [
              0.4444444444444444,
              "#bd3786"
             ],
             [
              0.5555555555555556,
              "#d8576b"
             ],
             [
              0.6666666666666666,
              "#ed7953"
             ],
             [
              0.7777777777777778,
              "#fb9f3a"
             ],
             [
              0.8888888888888888,
              "#fdca26"
             ],
             [
              1,
              "#f0f921"
             ]
            ],
            "type": "contour"
           }
          ],
          "contourcarpet": [
           {
            "colorbar": {
             "outlinewidth": 0,
             "ticks": ""
            },
            "type": "contourcarpet"
           }
          ],
          "heatmap": [
           {
            "colorbar": {
             "outlinewidth": 0,
             "ticks": ""
            },
            "colorscale": [
             [
              0,
              "#0d0887"
             ],
             [
              0.1111111111111111,
              "#46039f"
             ],
             [
              0.2222222222222222,
              "#7201a8"
             ],
             [
              0.3333333333333333,
              "#9c179e"
             ],
             [
              0.4444444444444444,
              "#bd3786"
             ],
             [
              0.5555555555555556,
              "#d8576b"
             ],
             [
              0.6666666666666666,
              "#ed7953"
             ],
             [
              0.7777777777777778,
              "#fb9f3a"
             ],
             [
              0.8888888888888888,
              "#fdca26"
             ],
             [
              1,
              "#f0f921"
             ]
            ],
            "type": "heatmap"
           }
          ],
          "heatmapgl": [
           {
            "colorbar": {
             "outlinewidth": 0,
             "ticks": ""
            },
            "colorscale": [
             [
              0,
              "#0d0887"
             ],
             [
              0.1111111111111111,
              "#46039f"
             ],
             [
              0.2222222222222222,
              "#7201a8"
             ],
             [
              0.3333333333333333,
              "#9c179e"
             ],
             [
              0.4444444444444444,
              "#bd3786"
             ],
             [
              0.5555555555555556,
              "#d8576b"
             ],
             [
              0.6666666666666666,
              "#ed7953"
             ],
             [
              0.7777777777777778,
              "#fb9f3a"
             ],
             [
              0.8888888888888888,
              "#fdca26"
             ],
             [
              1,
              "#f0f921"
             ]
            ],
            "type": "heatmapgl"
           }
          ],
          "histogram": [
           {
            "marker": {
             "pattern": {
              "fillmode": "overlay",
              "size": 10,
              "solidity": 0.2
             }
            },
            "type": "histogram"
           }
          ],
          "histogram2d": [
           {
            "colorbar": {
             "outlinewidth": 0,
             "ticks": ""
            },
            "colorscale": [
             [
              0,
              "#0d0887"
             ],
             [
              0.1111111111111111,
              "#46039f"
             ],
             [
              0.2222222222222222,
              "#7201a8"
             ],
             [
              0.3333333333333333,
              "#9c179e"
             ],
             [
              0.4444444444444444,
              "#bd3786"
             ],
             [
              0.5555555555555556,
              "#d8576b"
             ],
             [
              0.6666666666666666,
              "#ed7953"
             ],
             [
              0.7777777777777778,
              "#fb9f3a"
             ],
             [
              0.8888888888888888,
              "#fdca26"
             ],
             [
              1,
              "#f0f921"
             ]
            ],
            "type": "histogram2d"
           }
          ],
          "histogram2dcontour": [
           {
            "colorbar": {
             "outlinewidth": 0,
             "ticks": ""
            },
            "colorscale": [
             [
              0,
              "#0d0887"
             ],
             [
              0.1111111111111111,
              "#46039f"
             ],
             [
              0.2222222222222222,
              "#7201a8"
             ],
             [
              0.3333333333333333,
              "#9c179e"
             ],
             [
              0.4444444444444444,
              "#bd3786"
             ],
             [
              0.5555555555555556,
              "#d8576b"
             ],
             [
              0.6666666666666666,
              "#ed7953"
             ],
             [
              0.7777777777777778,
              "#fb9f3a"
             ],
             [
              0.8888888888888888,
              "#fdca26"
             ],
             [
              1,
              "#f0f921"
             ]
            ],
            "type": "histogram2dcontour"
           }
          ],
          "mesh3d": [
           {
            "colorbar": {
             "outlinewidth": 0,
             "ticks": ""
            },
            "type": "mesh3d"
           }
          ],
          "parcoords": [
           {
            "line": {
             "colorbar": {
              "outlinewidth": 0,
              "ticks": ""
             }
            },
            "type": "parcoords"
           }
          ],
          "pie": [
           {
            "automargin": true,
            "type": "pie"
           }
          ],
          "scatter": [
           {
            "fillpattern": {
             "fillmode": "overlay",
             "size": 10,
             "solidity": 0.2
            },
            "type": "scatter"
           }
          ],
          "scatter3d": [
           {
            "line": {
             "colorbar": {
              "outlinewidth": 0,
              "ticks": ""
             }
            },
            "marker": {
             "colorbar": {
              "outlinewidth": 0,
              "ticks": ""
             }
            },
            "type": "scatter3d"
           }
          ],
          "scattercarpet": [
           {
            "marker": {
             "colorbar": {
              "outlinewidth": 0,
              "ticks": ""
             }
            },
            "type": "scattercarpet"
           }
          ],
          "scattergeo": [
           {
            "marker": {
             "colorbar": {
              "outlinewidth": 0,
              "ticks": ""
             }
            },
            "type": "scattergeo"
           }
          ],
          "scattergl": [
           {
            "marker": {
             "colorbar": {
              "outlinewidth": 0,
              "ticks": ""
             }
            },
            "type": "scattergl"
           }
          ],
          "scattermapbox": [
           {
            "marker": {
             "colorbar": {
              "outlinewidth": 0,
              "ticks": ""
             }
            },
            "type": "scattermapbox"
           }
          ],
          "scatterpolar": [
           {
            "marker": {
             "colorbar": {
              "outlinewidth": 0,
              "ticks": ""
             }
            },
            "type": "scatterpolar"
           }
          ],
          "scatterpolargl": [
           {
            "marker": {
             "colorbar": {
              "outlinewidth": 0,
              "ticks": ""
             }
            },
            "type": "scatterpolargl"
           }
          ],
          "scatterternary": [
           {
            "marker": {
             "colorbar": {
              "outlinewidth": 0,
              "ticks": ""
             }
            },
            "type": "scatterternary"
           }
          ],
          "surface": [
           {
            "colorbar": {
             "outlinewidth": 0,
             "ticks": ""
            },
            "colorscale": [
             [
              0,
              "#0d0887"
             ],
             [
              0.1111111111111111,
              "#46039f"
             ],
             [
              0.2222222222222222,
              "#7201a8"
             ],
             [
              0.3333333333333333,
              "#9c179e"
             ],
             [
              0.4444444444444444,
              "#bd3786"
             ],
             [
              0.5555555555555556,
              "#d8576b"
             ],
             [
              0.6666666666666666,
              "#ed7953"
             ],
             [
              0.7777777777777778,
              "#fb9f3a"
             ],
             [
              0.8888888888888888,
              "#fdca26"
             ],
             [
              1,
              "#f0f921"
             ]
            ],
            "type": "surface"
           }
          ],
          "table": [
           {
            "cells": {
             "fill": {
              "color": "#EBF0F8"
             },
             "line": {
              "color": "white"
             }
            },
            "header": {
             "fill": {
              "color": "#C8D4E3"
             },
             "line": {
              "color": "white"
             }
            },
            "type": "table"
           }
          ]
         },
         "layout": {
          "annotationdefaults": {
           "arrowcolor": "#2a3f5f",
           "arrowhead": 0,
           "arrowwidth": 1
          },
          "autotypenumbers": "strict",
          "coloraxis": {
           "colorbar": {
            "outlinewidth": 0,
            "ticks": ""
           }
          },
          "colorscale": {
           "diverging": [
            [
             0,
             "#8e0152"
            ],
            [
             0.1,
             "#c51b7d"
            ],
            [
             0.2,
             "#de77ae"
            ],
            [
             0.3,
             "#f1b6da"
            ],
            [
             0.4,
             "#fde0ef"
            ],
            [
             0.5,
             "#f7f7f7"
            ],
            [
             0.6,
             "#e6f5d0"
            ],
            [
             0.7,
             "#b8e186"
            ],
            [
             0.8,
             "#7fbc41"
            ],
            [
             0.9,
             "#4d9221"
            ],
            [
             1,
             "#276419"
            ]
           ],
           "sequential": [
            [
             0,
             "#0d0887"
            ],
            [
             0.1111111111111111,
             "#46039f"
            ],
            [
             0.2222222222222222,
             "#7201a8"
            ],
            [
             0.3333333333333333,
             "#9c179e"
            ],
            [
             0.4444444444444444,
             "#bd3786"
            ],
            [
             0.5555555555555556,
             "#d8576b"
            ],
            [
             0.6666666666666666,
             "#ed7953"
            ],
            [
             0.7777777777777778,
             "#fb9f3a"
            ],
            [
             0.8888888888888888,
             "#fdca26"
            ],
            [
             1,
             "#f0f921"
            ]
           ],
           "sequentialminus": [
            [
             0,
             "#0d0887"
            ],
            [
             0.1111111111111111,
             "#46039f"
            ],
            [
             0.2222222222222222,
             "#7201a8"
            ],
            [
             0.3333333333333333,
             "#9c179e"
            ],
            [
             0.4444444444444444,
             "#bd3786"
            ],
            [
             0.5555555555555556,
             "#d8576b"
            ],
            [
             0.6666666666666666,
             "#ed7953"
            ],
            [
             0.7777777777777778,
             "#fb9f3a"
            ],
            [
             0.8888888888888888,
             "#fdca26"
            ],
            [
             1,
             "#f0f921"
            ]
           ]
          },
          "colorway": [
           "#636efa",
           "#EF553B",
           "#00cc96",
           "#ab63fa",
           "#FFA15A",
           "#19d3f3",
           "#FF6692",
           "#B6E880",
           "#FF97FF",
           "#FECB52"
          ],
          "font": {
           "color": "#2a3f5f"
          },
          "geo": {
           "bgcolor": "white",
           "lakecolor": "white",
           "landcolor": "#E5ECF6",
           "showlakes": true,
           "showland": true,
           "subunitcolor": "white"
          },
          "hoverlabel": {
           "align": "left"
          },
          "hovermode": "closest",
          "mapbox": {
           "style": "light"
          },
          "paper_bgcolor": "white",
          "plot_bgcolor": "#E5ECF6",
          "polar": {
           "angularaxis": {
            "gridcolor": "white",
            "linecolor": "white",
            "ticks": ""
           },
           "bgcolor": "#E5ECF6",
           "radialaxis": {
            "gridcolor": "white",
            "linecolor": "white",
            "ticks": ""
           }
          },
          "scene": {
           "xaxis": {
            "backgroundcolor": "#E5ECF6",
            "gridcolor": "white",
            "gridwidth": 2,
            "linecolor": "white",
            "showbackground": true,
            "ticks": "",
            "zerolinecolor": "white"
           },
           "yaxis": {
            "backgroundcolor": "#E5ECF6",
            "gridcolor": "white",
            "gridwidth": 2,
            "linecolor": "white",
            "showbackground": true,
            "ticks": "",
            "zerolinecolor": "white"
           },
           "zaxis": {
            "backgroundcolor": "#E5ECF6",
            "gridcolor": "white",
            "gridwidth": 2,
            "linecolor": "white",
            "showbackground": true,
            "ticks": "",
            "zerolinecolor": "white"
           }
          },
          "shapedefaults": {
           "line": {
            "color": "#2a3f5f"
           }
          },
          "ternary": {
           "aaxis": {
            "gridcolor": "white",
            "linecolor": "white",
            "ticks": ""
           },
           "baxis": {
            "gridcolor": "white",
            "linecolor": "white",
            "ticks": ""
           },
           "bgcolor": "#E5ECF6",
           "caxis": {
            "gridcolor": "white",
            "linecolor": "white",
            "ticks": ""
           }
          },
          "title": {
           "x": 0.05
          },
          "xaxis": {
           "automargin": true,
           "gridcolor": "white",
           "linecolor": "white",
           "ticks": "",
           "title": {
            "standoff": 15
           },
           "zerolinecolor": "white",
           "zerolinewidth": 2
          },
          "yaxis": {
           "automargin": true,
           "gridcolor": "white",
           "linecolor": "white",
           "ticks": "",
           "title": {
            "standoff": 15
           },
           "zerolinecolor": "white",
           "zerolinewidth": 2
          }
         }
        },
        "title": {
         "text": "Comparison between all and shooter adult gaming genres in the UK"
        },
        "xaxis": {
         "title": {
          "text": "Genre extent of use"
         }
        },
        "yaxis": {
         "title": {
          "text": "Percentage of adult gamers"
         }
        }
       }
      }
     },
     "metadata": {},
     "output_type": "display_data"
    }
   ],
   "source": [
    "X = ['Heavy','Medium','Light','Ultra light', 'Do not know']\n",
    "\n",
    "# Create traces\n",
    "trace1 = go.Bar(\n",
    "    x=X,\n",
    "    y=game_genre_shooter,\n",
    "    name='Shooter genre gamers',\n",
    "    marker=dict(color='rgba(0, 0, 255, 0.7)'),  \n",
    ")\n",
    "\n",
    "trace2 = go.Bar(\n",
    "    x=X,\n",
    "    y=game_genre_all,\n",
    "    name='All genre gamers',\n",
    "    marker=dict(color='rgba(0, 0, 255, 0.5)'), \n",
    ")\n",
    "\n",
    "data = [trace1, trace2]\n",
    "\n",
    "# Create layout\n",
    "layout = go.Layout(\n",
    "    title='Comparison between all and shooter adult gaming genres in the UK',\n",
    "    xaxis=dict(title='Genre extent of use'),\n",
    "    yaxis=dict(title='Percentage of adult gamers'),\n",
    "    barmode='group'\n",
    ")\n",
    "\n",
    "# Create figure\n",
    "fig = go.Figure(data=data, layout=layout)\n",
    "\n",
    "# Show the figure\n",
    "fig.show()"
   ]
  },
  {
   "cell_type": "code",
   "execution_count": null,
   "metadata": {},
   "outputs": [],
   "source": [
    "\n"
   ]
  }
 ],
 "metadata": {
  "kernelspec": {
   "display_name": "Python 3",
   "language": "python",
   "name": "python3"
  },
  "language_info": {
   "codemirror_mode": {
    "name": "ipython",
    "version": 3
   },
   "file_extension": ".py",
   "mimetype": "text/x-python",
   "name": "python",
   "nbconvert_exporter": "python",
   "pygments_lexer": "ipython3",
   "version": "3.11.7"
  }
 },
 "nbformat": 4,
 "nbformat_minor": 2
}
