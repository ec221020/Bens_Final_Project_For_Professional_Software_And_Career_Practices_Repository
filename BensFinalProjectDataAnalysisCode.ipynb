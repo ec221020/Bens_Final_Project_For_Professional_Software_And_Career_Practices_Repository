{
 "cells": [
  {
   "cell_type": "code",
   "execution_count": 3,
   "metadata": {},
   "outputs": [],
   "source": [
    "#import\n",
    "import matplotlib.pyplot as plt\n",
    "import numpy as np\n",
    "import pandas as pd\n",
    "import plotly.express as px"
   ]
  },
  {
   "cell_type": "code",
   "execution_count": 2,
   "metadata": {},
   "outputs": [],
   "source": [
    "def dataframe_to_dictionary(df):\n",
    "    dictionary = {}\n",
    "    for header in df:\n",
    "        dictionary[header] = [data for data in df[header]]\n",
    "    return dictionary"
   ]
  },
  {
   "cell_type": "code",
   "execution_count": 1,
   "metadata": {},
   "outputs": [],
   "source": [
    "#All data Imports\n",
    "##ViolentCrimesSheet = pd.read_excel(\"statistic_id288256_number-of-violent-crime-offences-in-england-and-wales-2007-2022.xlsx\", \"Data\", header=5)\n",
    "\n",
    "#convert to more managable data\n",
    "##dataViolentCrimesSheet = dataframe_to_dictionary(ViolentCrimesSheet)\n",
    "#print(dataViolentCrimesSheet)\n",
    "##https://www.statista.com/statistics/288256/violent-crimes-in-england-and-wales/\n",
    "\n",
    "##VideoGameSheet = pd.read_excel(\"statistic_id300521_uk-gaming-reach-2007-2021.xlsx\", \"Data\", header=4)\n",
    "##dataVideoGameSheet = dataframe_to_dictionary(VideoGameSheet)\n",
    "##https://www.statista.com/statistics/300521/gaming-in-the-united-kingdom/\n",
    "\n",
    "\n",
    "##AgeOfGamersSheet = pd.read_excel(\"statistic_id300513_uk-gaming-reach-2013-2021-by-age-group-and-gender (1) (1) (2).xlsx\", \"Data\", header=4)\n",
    "##dataAgeOfGamersSheet = dataframe_to_dictionary(AgeOfGamersSheet)\n",
    "##https://www.statista.com/statistics/300513/gaming-by-demographic-group-uk/\n",
    "\n",
    "##GenderOfGamersSheet = pd.read_excel(\"statistic_id300513_uk-gaming-reach-2013-2021-by-age-group-and-gender (1) (1) (2).xlsx\", \"Data2\", header=4)\n",
    "##dataGenderOfGamersSheet = dataframe_to_dictionary(GenderOfGamersSheet)\n",
    "##https://www.statista.com/statistics/300513/gaming-by-demographic-group-uk/\n",
    "\n",
    "##AgeOfGamersSheetsmall = pd.read_excel(\"statistic_id300513_uk-gaming-reach-2013-2021-by-age-group-and-gender (1) (1) (2).xlsx\", \"Data3\", header=4)\n",
    "##dataAgeOfGamersSheetsmall = dataframe_to_dictionary(AgeOfGamersSheetsmall)\n",
    "##https://www.statista.com/statistics/300513/gaming-by-demographic-group-uk/\n",
    "\n",
    "##SuicideRateAge = pd.read_excel(\"statistic_id289102_suicide-rate-in-england-and-wales-2021-by-age (1).xlsx\", \"Data\", header=4)\n",
    "##dataSuicideRateAge = dataframe_to_dictionary(SuicideRateAge)\n",
    "##https://www.statista.com/statistics/289102/suicide-rate-in-the-united-kingdom-uk-by-age/\n",
    "\n",
    "##SuicideRate = pd.read_excel(\"statistic_id282160_suicide-rate-in-england-and-wales-2000-2021 (1).xlsx\", \"Data\", header=4)\n",
    "##dataSuicideRate = dataframe_to_dictionary(SuicideRate)\n",
    "##https://www.statista.com/statistics/282160/suicide-rate-in-the-united-kingdom-uk-since-2000/\n",
    "\n",
    "##HomicidePercentage = pd.read_excel(\"Figure_10__Suspects_convicted_of_homicide_show_a_younger_age_profile (2).xlsx\", \"Data\", header=4)\n",
    "##dataHomicidePercentage = dataframe_to_dictionary(HomicidePercentage) \n",
    "##https://www.ons.gov.uk/peoplepopulationandcommunity/crimeandjustice/articles/homicideinenglandandwales/yearendingmarch2021\n",
    "\n",
    "##HomicidePercentages = pd.read_excel(\"Figure_10__Suspects_convicted_of_homicide_show_a_younger_age_profile (2).xlsx\", \"Data2\", header=4)\n",
    "##dataHomicidePercentages = dataframe_to_dictionary(HomicidePercentages) \n",
    "##https://www.ons.gov.uk/peoplepopulationandcommunity/crimeandjustice/articles/homicideinenglandandwales/yearendingmarch2021\n",
    "\n",
    "##DrugDeaths = pd.read_excel(\"Figure_10__Suspects_convicted_of_homicide_show_a_younger_age_profile (2).xlsx\", \"Data3\", header=4)\n",
    "##dataDrugDeaths = dataframe_to_dictionary(DrugDeaths) \n",
    "##https://www.ons.gov.uk/peoplepopulationandcommunity/birthsdeathsandmarriages/deaths/bulletins/deathsrelatedtodrugpoisoninginenglandandwales/2021registrations\n",
    "\n",
    "##SexualOffencess = pd.read_excel(\"Figure_10__Suspects_convicted_of_homicide_show_a_younger_age_profile (2).xlsx\", \"Data4\", header=4)\n",
    "##dataSexualOffencess = dataframe_to_dictionary(SexualOffencess) \n",
    "##https://www.statista.com/statistics/315500/sexual-offences-england-wales/\n",
    "\n",
    "##SexualOffences = pd.read_excel(\"Figure_10__Suspects_convicted_of_homicide_show_a_younger_age_profile (2).xlsx\", \"Data5\", header=4)\n",
    "##dataSexualOffences = dataframe_to_dictionary(SexualOffences) \n",
    "##https://www.statista.com/statistics/315500/sexual-offences-england-wales/\n",
    "\n",
    "##PopGames = pd.read_excel(\"statistic_id274072_best-selling-video-games-in-the-uk-2021.xlsx\", \"Data\", header=4)\n",
    "##dataPopGames = dataframe_to_dictionary(PopGames) \n",
    "##https://www.statista.com/statistics/274072/most-popular-games-in-the-united-kingdom-uk-by-unit-sales/\n",
    "\n",
    "##MorePopGames = pd.read_excel(\"statistic_id274072_best-selling-video-games-in-the-uk-2021.xlsx\", \"Data.3\", header=4)\n",
    "##dataMorePopGames = dataframe_to_dictionary(MorePopGames)\n",
    "##https://www.statista.com/statistics/274072/most-popular-games-in-the-united-kingdom-uk-by-unit-sales/\n",
    "\n",
    "##ShooterGames = pd.read_excel(\"statistic_id274072_best-selling-video-games-in-the-uk-2021.xlsx\", \"Data2\", header=4)\n",
    "##dataShooterGames = dataframe_to_dictionary(ShooterGames)\n",
    "##https://www.statista.com/statistics/1280526/gb-weekly-time-video-games-shooter-players/\n",
    "\n",
    "##GenreOfGames = pd.read_excel(\"statistic_id274072_best-selling-video-games-in-the-uk-2021.xlsx\", \"Data3\", header=4)\n",
    "##dataGenreOfGames = dataframe_to_dictionary(GenreOfGames)\n",
    "##https://gametree.me/blog/global-gamer-insights-report/#:~:text=For%20genre%20popularity%2C%20Action%20is%20rated%20as%20the,genres%20have%20a%20less%20than%2050%25%20preference%20rating.\n",
    "\n",
    "##homicidesByYear = pd.read_excel(\"statistic_id283093_number-of-homicides-in-england-and-wales-2002-2022.xlsx\", \"Data\", header=4)\n",
    "##datahomicidesByYear = dataframe_to_dictionary(homicidesByYear)\n",
    "##https://www.statista.com/statistics/283093/homicides-in-england-and-wales/"
   ]
  },
  {
   "cell_type": "code",
   "execution_count": null,
   "metadata": {},
   "outputs": [],
   "source": []
  },
  {
   "cell_type": "code",
   "execution_count": null,
   "metadata": {},
   "outputs": [],
   "source": []
  }
 ],
 "metadata": {
  "kernelspec": {
   "display_name": "Python 3",
   "language": "python",
   "name": "python3"
  },
  "language_info": {
   "codemirror_mode": {
    "name": "ipython",
    "version": 3
   },
   "file_extension": ".py",
   "mimetype": "text/x-python",
   "name": "python",
   "nbconvert_exporter": "python",
   "pygments_lexer": "ipython3",
   "version": "3.11.6"
  }
 },
 "nbformat": 4,
 "nbformat_minor": 2
}
